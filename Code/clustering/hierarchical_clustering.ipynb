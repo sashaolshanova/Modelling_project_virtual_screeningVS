{
 "cells": [
  {
   "cell_type": "code",
   "execution_count": 30,
   "id": "bf6574fd",
   "metadata": {},
   "outputs": [],
   "source": [
    "import pandas as pd\n",
    "import numpy as np\n",
    "from scipy.cluster.hierarchy import dendrogram, linkage\n",
    "from matplotlib import pyplot as plt"
   ]
  },
  {
   "cell_type": "code",
   "execution_count": 31,
   "id": "001a2a98",
   "metadata": {},
   "outputs": [
    {
     "name": "stdout",
     "output_type": "stream",
     "text": [
      "(8, 8)\n",
      "8\n",
      "8\n"
     ]
    }
   ],
   "source": [
    "distance_matrix = pd.read_excel(\"RMSDtable.xlsx\", sheet_name='Sheet1', index_col=0)\n",
    "type(distance_matrix)\n",
    "print(distance_matrix.shape) #tuple (8,8)\n",
    "print(distance_matrix.shape[0]) #first position of tuple (8,8), number of rows\n",
    "print(distance_matrix.shape[1]) #second position of tuple (8,8), number of columns"
   ]
  },
  {
   "cell_type": "code",
   "execution_count": 32,
   "id": "cda56858",
   "metadata": {},
   "outputs": [
    {
     "data": {
      "text/html": [
       "<div>\n",
       "<style scoped>\n",
       "    .dataframe tbody tr th:only-of-type {\n",
       "        vertical-align: middle;\n",
       "    }\n",
       "\n",
       "    .dataframe tbody tr th {\n",
       "        vertical-align: top;\n",
       "    }\n",
       "\n",
       "    .dataframe thead th {\n",
       "        text-align: right;\n",
       "    }\n",
       "</style>\n",
       "<table border=\"1\" class=\"dataframe\">\n",
       "  <thead>\n",
       "    <tr style=\"text-align: right;\">\n",
       "      <th></th>\n",
       "      <th>5ENS</th>\n",
       "      <th>3W9H</th>\n",
       "      <th>5ENQ</th>\n",
       "      <th>5ENR</th>\n",
       "      <th>3AOD</th>\n",
       "      <th>5ENT</th>\n",
       "      <th>7B8R</th>\n",
       "      <th>7B8T</th>\n",
       "    </tr>\n",
       "    <tr>\n",
       "      <th>RMSD</th>\n",
       "      <th></th>\n",
       "      <th></th>\n",
       "      <th></th>\n",
       "      <th></th>\n",
       "      <th></th>\n",
       "      <th></th>\n",
       "      <th></th>\n",
       "      <th></th>\n",
       "    </tr>\n",
       "  </thead>\n",
       "  <tbody>\n",
       "    <tr>\n",
       "      <th>5ENS</th>\n",
       "      <td>0.0</td>\n",
       "      <td>0.91</td>\n",
       "      <td>0.464</td>\n",
       "      <td>0.401</td>\n",
       "      <td>1.055</td>\n",
       "      <td>0.337</td>\n",
       "      <td>0.402</td>\n",
       "      <td>0.401</td>\n",
       "    </tr>\n",
       "    <tr>\n",
       "      <th>3W9H</th>\n",
       "      <td>0.0</td>\n",
       "      <td>0.00</td>\n",
       "      <td>0.946</td>\n",
       "      <td>0.907</td>\n",
       "      <td>0.834</td>\n",
       "      <td>1.099</td>\n",
       "      <td>1.078</td>\n",
       "      <td>0.984</td>\n",
       "    </tr>\n",
       "    <tr>\n",
       "      <th>5ENQ</th>\n",
       "      <td>0.0</td>\n",
       "      <td>0.00</td>\n",
       "      <td>0.000</td>\n",
       "      <td>0.268</td>\n",
       "      <td>1.140</td>\n",
       "      <td>0.531</td>\n",
       "      <td>0.563</td>\n",
       "      <td>0.605</td>\n",
       "    </tr>\n",
       "    <tr>\n",
       "      <th>5ENR</th>\n",
       "      <td>0.0</td>\n",
       "      <td>0.00</td>\n",
       "      <td>0.000</td>\n",
       "      <td>0.000</td>\n",
       "      <td>1.112</td>\n",
       "      <td>0.451</td>\n",
       "      <td>0.478</td>\n",
       "      <td>0.554</td>\n",
       "    </tr>\n",
       "    <tr>\n",
       "      <th>3AOD</th>\n",
       "      <td>0.0</td>\n",
       "      <td>0.00</td>\n",
       "      <td>0.000</td>\n",
       "      <td>0.000</td>\n",
       "      <td>0.000</td>\n",
       "      <td>1.212</td>\n",
       "      <td>1.220</td>\n",
       "      <td>1.163</td>\n",
       "    </tr>\n",
       "    <tr>\n",
       "      <th>5ENT</th>\n",
       "      <td>0.0</td>\n",
       "      <td>0.00</td>\n",
       "      <td>0.000</td>\n",
       "      <td>0.000</td>\n",
       "      <td>0.000</td>\n",
       "      <td>0.000</td>\n",
       "      <td>0.398</td>\n",
       "      <td>0.393</td>\n",
       "    </tr>\n",
       "    <tr>\n",
       "      <th>7B8R</th>\n",
       "      <td>0.0</td>\n",
       "      <td>0.00</td>\n",
       "      <td>0.000</td>\n",
       "      <td>0.000</td>\n",
       "      <td>0.000</td>\n",
       "      <td>0.000</td>\n",
       "      <td>0.000</td>\n",
       "      <td>0.460</td>\n",
       "    </tr>\n",
       "    <tr>\n",
       "      <th>7B8T</th>\n",
       "      <td>0.0</td>\n",
       "      <td>0.00</td>\n",
       "      <td>0.000</td>\n",
       "      <td>0.000</td>\n",
       "      <td>0.000</td>\n",
       "      <td>0.000</td>\n",
       "      <td>0.000</td>\n",
       "      <td>0.000</td>\n",
       "    </tr>\n",
       "  </tbody>\n",
       "</table>\n",
       "</div>"
      ],
      "text/plain": [
       "      5ENS  3W9H   5ENQ   5ENR   3AOD   5ENT   7B8R   7B8T\n",
       "RMSD                                                      \n",
       "5ENS   0.0  0.91  0.464  0.401  1.055  0.337  0.402  0.401\n",
       "3W9H   0.0  0.00  0.946  0.907  0.834  1.099  1.078  0.984\n",
       "5ENQ   0.0  0.00  0.000  0.268  1.140  0.531  0.563  0.605\n",
       "5ENR   0.0  0.00  0.000  0.000  1.112  0.451  0.478  0.554\n",
       "3AOD   0.0  0.00  0.000  0.000  0.000  1.212  1.220  1.163\n",
       "5ENT   0.0  0.00  0.000  0.000  0.000  0.000  0.398  0.393\n",
       "7B8R   0.0  0.00  0.000  0.000  0.000  0.000  0.000  0.460\n",
       "7B8T   0.0  0.00  0.000  0.000  0.000  0.000  0.000  0.000"
      ]
     },
     "execution_count": 32,
     "metadata": {},
     "output_type": "execute_result"
    }
   ],
   "source": [
    "def lower_tri_to_upper(lo_tri):\n",
    "    for i in range(lo_tri.shape[0]):\n",
    "        for j in range(lo_tri.shape[0]):\n",
    "            if j < i:\n",
    "                lo_tri.iloc[j,i] = lo_tri.iloc[i,j]\n",
    "                lo_tri.iloc[i,j] = 0\n",
    "\n",
    "    return lo_tri\n",
    "\n",
    "mirror = lower_tri_to_upper(distance_matrix)\n",
    "mirror"
   ]
  },
  {
   "cell_type": "code",
   "execution_count": 33,
   "id": "6af5c184",
   "metadata": {},
   "outputs": [
    {
     "data": {
      "image/png": "[encoded data removed]",
      "text/plain": [
       "<Figure size 640x480 with 1 Axes>"
      ]
     },
     "metadata": {},
     "output_type": "display_data"
    }
   ],
   "source": [
    "Z = linkage(mirror, 'ward', optimal_ordering=False) # single, complete, ward, average, weighted, centroid, median\n",
    "fig = plt.figure()\n",
    "dn = dendrogram(Z, labels=mirror.columns)\n",
    "plt.title('Hierarchical Clustering Dendrogram')\n",
    "plt.xlabel('protein structure')\n",
    "plt.ylabel('distance')\n",
    "plt.xticks(rotation=45)\n",
    "plt.show()"
   ]
  },
  {
   "cell_type": "code",
   "execution_count": 34,
   "id": "b84e6d95",
   "metadata": {},
   "outputs": [
    {
     "data": {
      "text/plain": [
       "array([5.        , 6.        , 0.40360005, 2.        ])"
      ]
     },
     "execution_count": 34,
     "metadata": {},
     "output_type": "execute_result"
    }
   ],
   "source": [
    "Z[1]"
   ]
  }
 ],
 "metadata": {
  "kernelspec": {
   "display_name": "base",
   "language": "python",
   "name": "python3"
  },
  "language_info": {
   "codemirror_mode": {
    "name": "ipython",
    "version": 3
   },
   "file_extension": ".py",
   "mimetype": "text/x-python",
   "name": "python",
   "nbconvert_exporter": "python",
   "pygments_lexer": "ipython3",
   "version": "3.9.13"
  },
  "vscode": {
   "interpreter": {
    "hash": "84e1904c3a97487b685189145e054586fd3ad14c413d2a39eefe70200931c1a6"
   }
  }
 },
 "nbformat": 4,
 "nbformat_minor": 5
}
